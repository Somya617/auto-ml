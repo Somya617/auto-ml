{
 "cells": [
  {
   "cell_type": "code",
   "execution_count": 1,
   "metadata": {},
   "outputs": [],
   "source": [
    "import pandas as pd\n",
    "import h2o\n",
    "from h2o.automl import H2OAutoML"
   ]
  },
  {
   "cell_type": "code",
   "execution_count": 3,
   "metadata": {},
   "outputs": [
    {
     "name": "stdout",
     "output_type": "stream",
     "text": [
      "Checking whether there is an H2O instance running at http://localhost:54321..... not found.\n",
      "Attempting to start a local H2O server...\n",
      "  Java Version: java version \"18.0.1.1\" 2022-04-22; Java(TM) SE Runtime Environment (build 18.0.1.1+2-6); Java HotSpot(TM) 64-Bit Server VM (build 18.0.1.1+2-6, mixed mode, sharing)\n",
      "  Starting server from /opt/homebrew/Caskroom/miniforge/base/envs/ML/lib/python3.8/site-packages/h2o/backend/bin/h2o.jar\n",
      "  Ice root: /var/folders/lf/7qfqd7h11kbb3jmk2tcyjwch0000gn/T/tmpwzqn_npy\n",
      "  JVM stdout: /var/folders/lf/7qfqd7h11kbb3jmk2tcyjwch0000gn/T/tmpwzqn_npy/h2o_dhruvnagill_started_from_python.out\n",
      "  JVM stderr: /var/folders/lf/7qfqd7h11kbb3jmk2tcyjwch0000gn/T/tmpwzqn_npy/h2o_dhruvnagill_started_from_python.err\n",
      "  Server is running at http://127.0.0.1:54321\n",
      "Connecting to H2O server at http://127.0.0.1:54321 ... successful.\n"
     ]
    },
    {
     "data": {
      "text/html": [
       "\n",
       "<style>\n",
       "\n",
       "#h2o-table-2.h2o-container {\n",
       "  overflow-x: auto;\n",
       "}\n",
       "#h2o-table-2 .h2o-table {\n",
       "  /* width: 100%; */\n",
       "  margin-top: 1em;\n",
       "  margin-bottom: 1em;\n",
       "}\n",
       "#h2o-table-2 .h2o-table caption {\n",
       "  white-space: nowrap;\n",
       "  caption-side: top;\n",
       "  text-align: left;\n",
       "  /* margin-left: 1em; */\n",
       "  margin: 0;\n",
       "  font-size: larger;\n",
       "}\n",
       "#h2o-table-2 .h2o-table thead {\n",
       "  white-space: nowrap; \n",
       "  position: sticky;\n",
       "  top: 0;\n",
       "  box-shadow: 0 -1px inset;\n",
       "}\n",
       "#h2o-table-2 .h2o-table tbody {\n",
       "  overflow: auto;\n",
       "}\n",
       "#h2o-table-2 .h2o-table th,\n",
       "#h2o-table-2 .h2o-table td {\n",
       "  text-align: right;\n",
       "  /* border: 1px solid; */\n",
       "}\n",
       "#h2o-table-2 .h2o-table tr:nth-child(even) {\n",
       "  /* background: #F5F5F5 */\n",
       "}\n",
       "\n",
       "</style>      \n",
       "<div id=\"h2o-table-2\" class=\"h2o-container\">\n",
       "  <table class=\"h2o-table\">\n",
       "    <caption></caption>\n",
       "    <thead></thead>\n",
       "    <tbody><tr><td>H2O_cluster_uptime:</td>\n",
       "<td>02 secs</td></tr>\n",
       "<tr><td>H2O_cluster_timezone:</td>\n",
       "<td>Asia/Kolkata</td></tr>\n",
       "<tr><td>H2O_data_parsing_timezone:</td>\n",
       "<td>UTC</td></tr>\n",
       "<tr><td>H2O_cluster_version:</td>\n",
       "<td>3.46.0.3</td></tr>\n",
       "<tr><td>H2O_cluster_version_age:</td>\n",
       "<td>16 days</td></tr>\n",
       "<tr><td>H2O_cluster_name:</td>\n",
       "<td>H2O_from_python_dhruvnagill_iuw18s</td></tr>\n",
       "<tr><td>H2O_cluster_total_nodes:</td>\n",
       "<td>1</td></tr>\n",
       "<tr><td>H2O_cluster_free_memory:</td>\n",
       "<td>2 Gb</td></tr>\n",
       "<tr><td>H2O_cluster_total_cores:</td>\n",
       "<td>8</td></tr>\n",
       "<tr><td>H2O_cluster_allowed_cores:</td>\n",
       "<td>8</td></tr>\n",
       "<tr><td>H2O_cluster_status:</td>\n",
       "<td>locked, healthy</td></tr>\n",
       "<tr><td>H2O_connection_url:</td>\n",
       "<td>http://127.0.0.1:54321</td></tr>\n",
       "<tr><td>H2O_connection_proxy:</td>\n",
       "<td>{\"http\": null, \"https\": null}</td></tr>\n",
       "<tr><td>H2O_internal_security:</td>\n",
       "<td>False</td></tr>\n",
       "<tr><td>Python_version:</td>\n",
       "<td>3.8.17 final</td></tr></tbody>\n",
       "  </table>\n",
       "</div>\n"
      ],
      "text/plain": [
       "--------------------------  ----------------------------------\n",
       "H2O_cluster_uptime:         02 secs\n",
       "H2O_cluster_timezone:       Asia/Kolkata\n",
       "H2O_data_parsing_timezone:  UTC\n",
       "H2O_cluster_version:        3.46.0.3\n",
       "H2O_cluster_version_age:    16 days\n",
       "H2O_cluster_name:           H2O_from_python_dhruvnagill_iuw18s\n",
       "H2O_cluster_total_nodes:    1\n",
       "H2O_cluster_free_memory:    2 Gb\n",
       "H2O_cluster_total_cores:    8\n",
       "H2O_cluster_allowed_cores:  8\n",
       "H2O_cluster_status:         locked, healthy\n",
       "H2O_connection_url:         http://127.0.0.1:54321\n",
       "H2O_connection_proxy:       {\"http\": null, \"https\": null}\n",
       "H2O_internal_security:      False\n",
       "Python_version:             3.8.17 final\n",
       "--------------------------  ----------------------------------"
      ]
     },
     "metadata": {},
     "output_type": "display_data"
    }
   ],
   "source": [
    "h2o.init()"
   ]
  },
  {
   "cell_type": "code",
   "execution_count": 4,
   "metadata": {},
   "outputs": [],
   "source": [
    "df = pd.read_excel('address_data-1.xlsx')\n"
   ]
  },
  {
   "cell_type": "code",
   "execution_count": 5,
   "metadata": {},
   "outputs": [
    {
     "name": "stdout",
     "output_type": "stream",
     "text": [
      "Columns in the dataset:\n",
      "- FDR ID\n",
      "- Organization Name\n",
      "- Physical Street\n",
      "- Physical City\n",
      "- Physical State\n",
      "- Physical Country\n",
      "- Physical Postal1\n",
      "- Physical Subdivision\n",
      "- Ref URL\n"
     ]
    }
   ],
   "source": [
    "print(\"Columns in the dataset:\")\n",
    "for col in df.columns:\n",
    "    print(f\"- {col}\")"
   ]
  },
  {
   "cell_type": "code",
   "execution_count": 6,
   "metadata": {},
   "outputs": [
    {
     "name": "stdout",
     "output_type": "stream",
     "text": [
      "Parse progress: |████████████████████████████████████████████████████████████████| (done) 100%\n"
     ]
    }
   ],
   "source": [
    "h2o_df = h2o.H2OFrame(df)"
   ]
  },
  {
   "cell_type": "code",
   "execution_count": 27,
   "metadata": {},
   "outputs": [
    {
     "data": {
      "text/plain": [
       "{'FDR ID': 'int',\n",
       " 'Organization Name': 'string',\n",
       " 'Physical Street': 'string',\n",
       " 'Physical City': 'enum',\n",
       " 'Physical State': 'enum',\n",
       " 'Physical Country': 'enum',\n",
       " 'Physical Postal1': 'int',\n",
       " 'Physical Subdivision': 'enum',\n",
       " 'Ref URL': 'string'}"
      ]
     },
     "execution_count": 27,
     "metadata": {},
     "output_type": "execute_result"
    }
   ],
   "source": [
    "h2o_df.types"
   ]
  },
  {
   "cell_type": "code",
   "execution_count": 28,
   "metadata": {},
   "outputs": [],
   "source": [
    "numeric_cols = [col for col in h2o_df.columns if h2o_df.types[col] in [\"numeric\", \"int\"]]\n",
    "categorical_cols = [col for col in h2o_df.columns if h2o_df.types[col] in [\"enum\", \"string\"]]\n"
   ]
  },
  {
   "cell_type": "code",
   "execution_count": 29,
   "metadata": {},
   "outputs": [
    {
     "name": "stdout",
     "output_type": "stream",
     "text": [
      "\n",
      "Numeric columns: ['FDR ID', 'Physical Postal1']\n",
      "Categorical columns: ['Organization Name', 'Physical Street', 'Physical City', 'Physical State', 'Physical Country', 'Physical Subdivision', 'Ref URL']\n"
     ]
    }
   ],
   "source": [
    "print(\"\\nNumeric columns:\", numeric_cols)\n",
    "print(\"Categorical columns:\", categorical_cols)"
   ]
  },
  {
   "cell_type": "code",
   "execution_count": 30,
   "metadata": {},
   "outputs": [
    {
     "name": "stdout",
     "output_type": "stream",
     "text": [
      "\n",
      "Potential target columns: ['Organization Name', 'Physical Street', 'Physical City', 'Physical State', 'Physical Country', 'Physical Subdivision', 'Ref URL']\n"
     ]
    }
   ],
   "source": [
    "potential_targets = categorical_cols\n",
    "print(\"\\nPotential target columns:\", potential_targets)"
   ]
  },
  {
   "cell_type": "code",
   "execution_count": 31,
   "metadata": {},
   "outputs": [],
   "source": [
    "def run_automl(target):\n",
    "    features = [col for col in h2o_df.columns if col != target]\n",
    "    aml = H2OAutoML(max_runtime_secs=300, seed=42)\n",
    "    aml.train(x=features, y=target, training_frame=h2o_df)\n",
    "    return aml"
   ]
  },
  {
   "cell_type": "code",
   "execution_count": 32,
   "metadata": {},
   "outputs": [
    {
     "data": {
      "text/plain": [
       "list"
      ]
     },
     "execution_count": 32,
     "metadata": {},
     "output_type": "execute_result"
    }
   ],
   "source": [
    "type(potential_targets)"
   ]
  },
  {
   "cell_type": "code",
   "execution_count": 33,
   "metadata": {},
   "outputs": [
    {
     "name": "stdout",
     "output_type": "stream",
     "text": [
      "\n",
      "Running AutoML for target: Organization Name\n",
      "AutoML progress: |\n",
      "23:18:51.49: AutoML: XGBoost is not available; skipping it.\n",
      "23:18:51.54: _train param, Dropping bad and constant columns: [Physical Street, Ref URL]\n",
      "23:18:51.54: _response_column param, Use numerical, categorical or time variable. Currently used String\n",
      "23:18:51.56: _train param, Dropping bad and constant columns: [Physical Street, Ref URL]\n",
      "23:18:51.56: _response_column param, Use numerical, categorical or time variable. Currently used String\n",
      "23:18:51.57: _train param, Dropping bad and constant columns: [Physical Street, Ref URL]\n",
      "23:18:51.57: _response_column param, Use numerical, categorical or time variable. Currently used String\n",
      "23:18:51.58: _train param, Dropping bad and constant columns: [Physical Street, Ref URL]\n",
      "23:18:51.58: _response_column param, Use numerical, categorical or time variable. Currently used String\n",
      "23:18:51.58: _train param, Dropping bad and constant columns: [Physical Street, Ref URL]\n",
      "23:18:51.58: _response_column param, Use numerical, categorical or time variable. Currently used String\n",
      "23:18:51.59: _train param, Dropping bad and constant columns: [Physical Street, Ref URL]\n",
      "23:18:51.59: _response_column param, Use numerical, categorical or time variable. Currently used String\n",
      "23:18:51.60: _train param, Dropping bad and constant columns: [Physical Street, Ref URL]\n",
      "23:18:51.60: _response_column param, Use numerical, categorical or time variable. Currently used String\n",
      "23:18:51.62: _train param, Dropping bad and constant columns: [Physical Street, Ref URL]\n",
      "23:18:51.62: _response_column param, Use numerical, categorical or time variable. Currently used String\n",
      "23:18:51.69: _train param, Dropping bad and constant columns: [Physical Street, Ref URL]\n",
      "23:18:51.69: _response_column param, Use numerical, categorical or time variable. Currently used String\n",
      "23:18:51.188: GBM_grid_1_AutoML_2_20240627_231851 [GBM Grid Search] failed: water.exceptions.H2OGridException: Aborting Grid search after too many consecutive model failures.\n",
      "23:18:51.190: Empty leaderboard.\n",
      "AutoML was not able to build any model within a max runtime constraint of 300 seconds, you may want to increase this value before retrying.\n",
      "\n",
      " (failed)\n",
      "Error occurred for target Organization Name: Job with key $03017f00000132d4ffffffff$_b1b7d40a34429672546fcac338b64d2b failed with an exception: water.exceptions.H2OAutoMLException: Aborting AutoML after too many consecutive model failures\n",
      "stacktrace: \n",
      "water.exceptions.H2OAutoMLException: Aborting AutoML after too many consecutive model failures\n",
      "\tat ai.h2o.automl.AutoML.learn(AutoML.java:776)\n",
      "\tat ai.h2o.automl.AutoML.run(AutoML.java:494)\n",
      "\tat ai.h2o.automl.H2OJob$1.compute2(H2OJob.java:33)\n",
      "\tat water.H2O$H2OCountedCompleter.compute(H2O.java:1704)\n",
      "\tat jsr166y.CountedCompleter.exec(CountedCompleter.java:468)\n",
      "\tat jsr166y.ForkJoinTask.doExec(ForkJoinTask.java:263)\n",
      "\tat jsr166y.ForkJoinPool$WorkQueue.runTask(ForkJoinPool.java:976)\n",
      "\tat jsr166y.ForkJoinPool.runWorker(ForkJoinPool.java:1479)\n",
      "\tat jsr166y.ForkJoinWorkerThread.run(ForkJoinWorkerThread.java:104)\n",
      "\n",
      "\n",
      "Running AutoML for target: Physical Street\n",
      "AutoML progress: |\n",
      "23:18:51.288: AutoML: XGBoost is not available; skipping it.\n",
      "23:18:51.289: _train param, Dropping bad and constant columns: [Organization Name, Ref URL]\n",
      "23:18:51.289: _response_column param, Use numerical, categorical or time variable. Currently used String\n",
      "23:18:51.289: _train param, Dropping bad and constant columns: [Organization Name, Ref URL]\n",
      "23:18:51.289: _response_column param, Use numerical, categorical or time variable. Currently used String\n",
      "23:18:51.289: _train param, Dropping bad and constant columns: [Organization Name, Ref URL]\n",
      "23:18:51.289: _response_column param, Use numerical, categorical or time variable. Currently used String\n",
      "23:18:51.290: _train param, Dropping bad and constant columns: [Organization Name, Ref URL]\n",
      "23:18:51.290: _response_column param, Use numerical, categorical or time variable. Currently used String\n",
      "23:18:51.290: _train param, Dropping bad and constant columns: [Organization Name, Ref URL]\n",
      "23:18:51.290: _response_column param, Use numerical, categorical or time variable. Currently used String\n",
      "23:18:51.290: _train param, Dropping bad and constant columns: [Organization Name, Ref URL]\n",
      "23:18:51.290: _response_column param, Use numerical, categorical or time variable. Currently used String\n",
      "23:18:51.291: _train param, Dropping bad and constant columns: [Organization Name, Ref URL]\n",
      "23:18:51.291: _response_column param, Use numerical, categorical or time variable. Currently used String\n",
      "23:18:51.291: _train param, Dropping bad and constant columns: [Organization Name, Ref URL]\n",
      "23:18:51.291: _response_column param, Use numerical, categorical or time variable. Currently used String\n",
      "23:18:51.292: _train param, Dropping bad and constant columns: [Organization Name, Ref URL]\n",
      "23:18:51.292: _response_column param, Use numerical, categorical or time variable. Currently used String\n",
      "23:18:51.389: GBM_grid_1_AutoML_3_20240627_231851 [GBM Grid Search] failed: water.exceptions.H2OGridException: Aborting Grid search after too many consecutive model failures.\n",
      "23:18:51.391: Empty leaderboard.\n",
      "AutoML was not able to build any model within a max runtime constraint of 300 seconds, you may want to increase this value before retrying.\n",
      "\n",
      " (failed)\n",
      "Error occurred for target Physical Street: Job with key $03017f00000132d4ffffffff$_a142eb63a36be06026d29c5b27254802 failed with an exception: water.exceptions.H2OAutoMLException: Aborting AutoML after too many consecutive model failures\n",
      "stacktrace: \n",
      "water.exceptions.H2OAutoMLException: Aborting AutoML after too many consecutive model failures\n",
      "\tat ai.h2o.automl.AutoML.learn(AutoML.java:776)\n",
      "\tat ai.h2o.automl.AutoML.run(AutoML.java:494)\n",
      "\tat ai.h2o.automl.H2OJob$1.compute2(H2OJob.java:33)\n",
      "\tat water.H2O$H2OCountedCompleter.compute(H2O.java:1704)\n",
      "\tat jsr166y.CountedCompleter.exec(CountedCompleter.java:468)\n",
      "\tat jsr166y.ForkJoinTask.doExec(ForkJoinTask.java:263)\n",
      "\tat jsr166y.ForkJoinPool$WorkQueue.runTask(ForkJoinPool.java:976)\n",
      "\tat jsr166y.ForkJoinPool.runWorker(ForkJoinPool.java:1479)\n",
      "\tat jsr166y.ForkJoinWorkerThread.run(ForkJoinWorkerThread.java:104)\n",
      "\n",
      "\n",
      "Running AutoML for target: Physical City\n",
      "AutoML progress: |\n",
      "23:18:51.516: AutoML: XGBoost is not available; skipping it.\n",
      "23:18:51.523: _train param, Dropping bad and constant columns: [Physical Street, Organization Name, Ref URL]\n",
      "\n",
      "███ (cancelled)\n",
      "\n",
      "23:19:09.736: Empty leaderboard.\n",
      "AutoML was not able to build any model within a max runtime constraint of 300 seconds, you may want to increase this value before retrying.\n",
      "\n",
      "Error occurred for target Physical City: Job<$03017f00000132d4ffffffff$_84ffddea8dd104c626194143750a450d> was cancelled by the user.\n",
      "\n",
      "Running AutoML for target: Physical State\n",
      "AutoML progress: |\n",
      "23:19:09.917: AutoML: XGBoost is not available; skipping it.\n",
      "23:19:09.946: _train param, Dropping bad and constant columns: [Physical Street, Organization Name, Ref URL]\n",
      "\n",
      "██████████████████████████████████████ (cancelled)\n"
     ]
    },
    {
     "ename": "",
     "evalue": "",
     "output_type": "error",
     "traceback": [
      "\u001b[1;31mCannot execute code, session has been disposed. Please try restarting the Kernel."
     ]
    },
    {
     "ename": "",
     "evalue": "",
     "output_type": "error",
     "traceback": [
      "\u001b[1;31mCannot execute code, session has been disposed. Please try restarting the Kernel. \n",
      "\u001b[1;31mView Jupyter <a href='command:jupyter.viewOutput'>log</a> for further details."
     ]
    }
   ],
   "source": [
    "results = {}\n",
    "if(type(potential_targets) == str):\n",
    "    target = potential_targets\n",
    "    print(f\"\\nRunning AutoML for target: {target}\")\n",
    "    try:\n",
    "        aml = run_automl(target)\n",
    "        performance = aml.leader.model_performance(h2o_df)\n",
    "        results[target] = {\n",
    "            'model': aml.leader,\n",
    "            'performance': performance.auc()\n",
    "        }\n",
    "    except Exception as e:\n",
    "        print(f\"Error occurred for target {target}: {str(e)}\")\n",
    "else:\n",
    "    for target in potential_targets:\n",
    "        print(f\"\\nRunning AutoML for target: {target}\")\n",
    "        try:\n",
    "            aml = run_automl(target)\n",
    "            performance = aml.leader.model_performance(h2o_df)\n",
    "            results[target] = {\n",
    "                'model': aml.leader,\n",
    "                'performance': performance.auc()\n",
    "            }\n",
    "        except Exception as e:\n",
    "            print(f\"Error occurred for target {target}: {str(e)}\")\n"
   ]
  },
  {
   "cell_type": "code",
   "execution_count": null,
   "metadata": {},
   "outputs": [],
   "source": [
    "if results:\n",
    "  \n",
    "    best_target = max(results, key=lambda x: results[x]['performance'])\n",
    "    best_model = results[best_target]['model']\n",
    "\n",
    "    print(f\"\\nBest performing model predicts: {best_target}\")\n",
    "    print(f\"Model performance (AUC): {results[best_target]['performance']}\")\n",
    "\n",
    "    \n",
    "    def predict(data):\n",
    "        h2o_data = h2o.H2OFrame(data)\n",
    "        predictions = best_model.predict(h2o_data)\n",
    "        return predictions.as_data_frame()\n",
    "\n",
    "\n",
    "    print(\"\\nExample prediction:\")\n",
    "    example_data = h2o_df[:1]  \n",
    "    print(predict(example_data))\n",
    "else:\n",
    "    print(\"No successful models were trained.\")\n"
   ]
  },
  {
   "cell_type": "code",
   "execution_count": null,
   "metadata": {},
   "outputs": [],
   "source": [
    "print(f\"Best Model is : {best_model}\")\n",
    "print(f\"Best target is : {best_target}\")"
   ]
  },
  {
   "cell_type": "code",
   "execution_count": null,
   "metadata": {},
   "outputs": [],
   "source": [
    "h2o.shutdown()"
   ]
  }
 ],
 "metadata": {
  "kernelspec": {
   "display_name": "ML",
   "language": "python",
   "name": "python3"
  },
  "language_info": {
   "codemirror_mode": {
    "name": "ipython",
    "version": 3
   },
   "file_extension": ".py",
   "mimetype": "text/x-python",
   "name": "python",
   "nbconvert_exporter": "python",
   "pygments_lexer": "ipython3",
   "version": "undefined.undefined.undefined"
  }
 },
 "nbformat": 4,
 "nbformat_minor": 2
}
